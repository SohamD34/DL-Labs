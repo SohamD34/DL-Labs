{
 "cells": [
  {
   "cell_type": "markdown",
   "metadata": {},
   "source": [
    "### Importing Libraries"
   ]
  },
  {
   "cell_type": "code",
   "execution_count": 2,
   "metadata": {},
   "outputs": [],
   "source": [
    "''' Here we shall import all the necessary libraries and functions that we will be using during the tasks. '''\n",
    "\n",
    "import torch\n",
    "import torch.nn as nn\n",
    "import torch.optim as optim\n",
    "import torchvision\n",
    "import torchvision.transforms as transforms\n",
    "from torch.utils.data import DataLoader\n",
    "from sklearn.metrics import accuracy_score, precision_score, recall_score, f1_score\n",
    "from sklearn.model_selection import train_test_split\n",
    "import warnings\n",
    "warnings.filterwarnings(\"ignore\")"
   ]
  },
  {
   "cell_type": "markdown",
   "metadata": {},
   "source": [
    "### Device"
   ]
  },
  {
   "cell_type": "code",
   "execution_count": 5,
   "metadata": {},
   "outputs": [
    {
     "name": "stdout",
     "output_type": "stream",
     "text": [
      "cuda\n"
     ]
    }
   ],
   "source": [
    "''' We decide which device - CPU or GPU - to use for the training purposes. '''\n",
    "\n",
    "if torch.cuda.is_available():\n",
    "    device = torch.device('cuda')\n",
    "else:\n",
    "    device = torch.device('cpu')\n",
    "print(device)"
   ]
  },
  {
   "cell_type": "markdown",
   "metadata": {},
   "source": [
    "### Load Data"
   ]
  },
  {
   "cell_type": "code",
   "execution_count": null,
   "metadata": {},
   "outputs": [],
   "source": [
    "''' In this lab, we shall use CIFAR100 dataset which is an image classification dataset with 100 classes. '''"
   ]
  },
  {
   "cell_type": "code",
   "execution_count": 8,
   "metadata": {},
   "outputs": [
    {
     "name": "stdout",
     "output_type": "stream",
     "text": [
      "E:\\torchvision\\datasets\\data\n"
     ]
    }
   ],
   "source": [
    "%cd E:/torchvision/datasets/data"
   ]
  },
  {
   "cell_type": "code",
   "execution_count": 10,
   "metadata": {},
   "outputs": [],
   "source": [
    "# Load CIFAR-100 dataset\n",
    "transform = transforms.Compose([transforms.ToTensor(), transforms.Normalize((0.5, 0.5, 0.5), (0.5, 0.5, 0.5))])\n",
    "\n",
    "train_data = torchvision.datasets.CIFAR100(root='.', train=True, download=False, transform=transform)\n",
    "train_data, val_data = train_test_split(train_data, test_size=0.2, random_state=42)\n",
    "\n",
    "train_loader = DataLoader(train_data, batch_size=64, shuffle=True, num_workers=2)\n",
    "val_loader = DataLoader(val_data, batch_size=64, shuffle=False, num_workers=2)\n",
    "\n",
    "test_data = torchvision.datasets.CIFAR100(root='.', train=False, download=False, transform=transform)\n",
    "test_loader = DataLoader(test_data, batch_size=64, shuffle=False, num_workers=2)"
   ]
  },
  {
   "cell_type": "code",
   "execution_count": 11,
   "metadata": {},
   "outputs": [
    {
     "name": "stdout",
     "output_type": "stream",
     "text": [
      "Train data\n",
      "40000\n",
      "torch.Size([64, 3, 32, 32])\n",
      "torch.Size([64])\n",
      "\n",
      "Validation data\n",
      "10000\n",
      "torch.Size([64, 3, 32, 32])\n",
      "torch.Size([64])\n",
      "\n",
      "Test data\n",
      "10000\n",
      "torch.Size([64, 3, 32, 32])\n",
      "torch.Size([64])\n"
     ]
    }
   ],
   "source": [
    "# Checking the shape of the input \n",
    "\n",
    "print(\"Train data\")\n",
    "print(len(train_data))   # length of the train data\n",
    "for batch in train_loader:\n",
    "    images, labels = batch\n",
    "    print(images.shape)     # shape of the images\n",
    "    print(labels.shape)     # shape of the labels\n",
    "    break\n",
    "\n",
    "print(\"\\nValidation data\")\n",
    "print(len(val_data))\n",
    "for batch in val_loader:\n",
    "    images, labels = batch\n",
    "    print(images.shape)\n",
    "    print(labels.shape)\n",
    "    break\n",
    "\n",
    "print(\"\\nTest data\")\n",
    "print(len(test_data))\n",
    "for batch in test_loader:\n",
    "    images, labels = batch\n",
    "    print(images.shape)\n",
    "    print(labels.shape)\n",
    "    break"
   ]
  },
  {
   "cell_type": "markdown",
   "metadata": {},
   "source": [
    "### Hyperparameters"
   ]
  },
  {
   "cell_type": "code",
   "execution_count": 4,
   "metadata": {},
   "outputs": [
    {
     "data": {
      "text/plain": [
       "' We define all the necessary training hyperparameters such as batch_size, number of epochs, learning rate, etc. '"
      ]
     },
     "execution_count": 4,
     "metadata": {},
     "output_type": "execute_result"
    }
   ],
   "source": [
    "''' We define all the necessary training hyperparameters such as batch_size, number of epochs, learning rate, etc. '''"
   ]
  },
  {
   "cell_type": "code",
   "execution_count": 12,
   "metadata": {},
   "outputs": [],
   "source": [
    "seed = 42   # for reproducibility\n",
    "torch.manual_seed(seed)     # set seed for torch\n",
    "torch.backends.cudnn.benchmark = False \n",
    "torch.backends.cudnn.deterministic = True \n",
    "batch_size = 64\n",
    "epochs = 10 \n",
    "learning_rate = 0.005"
   ]
  },
  {
   "cell_type": "markdown",
   "metadata": {},
   "source": [
    "## With Dense Block Connections"
   ]
  },
  {
   "cell_type": "code",
   "execution_count": null,
   "metadata": {},
   "outputs": [],
   "source": [
    "''' In this part of the assignment, we use a DenseNet architecture with 3 Convolutional blocks and 3 Dense blocks between. This is a smaller version of the original DenseNet architecture. \n",
    "Between each pair of consecutive dense blocks, a transition block is used to reduce the number of feature-maps. We have used AvgPooling in the transition block. \n",
    "In the output layer, we use a Dense layer with 100 output units, as we have 100 classes in the CIFAR100 dataset. '''"
   ]
  },
  {
   "cell_type": "markdown",
   "metadata": {},
   "source": [
    "### Model Architecture"
   ]
  },
  {
   "cell_type": "code",
   "execution_count": 6,
   "metadata": {},
   "outputs": [],
   "source": [
    "class DenseBlock(nn.Module):\n",
    "    \n",
    "    def __init__(self, in_channels, growth_rate, num_layers):\n",
    "        super(DenseBlock, self).__init__()\n",
    "        self.layers = nn.ModuleList([self._make_layer(in_channels + i * growth_rate, growth_rate) for i in range(num_layers)])\n",
    "\n",
    "    def _make_layer(self, in_channels, growth_rate):\n",
    "        return nn.Sequential(\n",
    "            nn.Conv2d(in_channels, growth_rate, kernel_size=3, padding=1),\n",
    "            nn.ReLU(inplace=True)\n",
    "        )\n",
    "\n",
    "    def forward(self, x):\n",
    "        features = [x]\n",
    "        for layer in self.layers:\n",
    "            features.append(layer(torch.cat(features, 1)))\n",
    "        return torch.cat(features, 1)"
   ]
  },
  {
   "cell_type": "code",
   "execution_count": 7,
   "metadata": {},
   "outputs": [],
   "source": [
    "class TransitionBlock(nn.Module):\n",
    "\n",
    "    def __init__(self, in_channels, out_channels):\n",
    "        super(TransitionBlock, self).__init__()\n",
    "        self.conv = nn.Conv2d(in_channels, out_channels, kernel_size=1)\n",
    "        self.pool = nn.AvgPool2d(kernel_size=2, stride=2)\n",
    "\n",
    "    def forward(self, x):\n",
    "        return self.pool(self.conv(x))"
   ]
  },
  {
   "cell_type": "code",
   "execution_count": 8,
   "metadata": {},
   "outputs": [],
   "source": [
    "class DenseNet(nn.Module):\n",
    "\n",
    "    def __init__(self, growth_rate=12, block_config=(16, 16, 16), num_classes=100):\n",
    "        super(DenseNet, self).__init__()\n",
    "        self.growth_rate = growth_rate\n",
    "        self.features = nn.Sequential(\n",
    "            nn.Conv2d(3, 2*growth_rate, kernel_size=3, padding=1),\n",
    "            nn.ReLU(inplace=True)\n",
    "        )\n",
    "\n",
    "        num_features = 2*growth_rate\n",
    "\n",
    "        for i in range(len(block_config)):\n",
    "            num_layers = block_config[i]\n",
    "            block = DenseBlock(num_features, growth_rate, num_layers)\n",
    "            self.features.add_module(f'dense_block_{i}', block)\n",
    "\n",
    "            num_features += num_layers * growth_rate\n",
    "\n",
    "            if i != len(block_config) - 1:\n",
    "                trans = TransitionBlock(num_features, num_features // 2)\n",
    "                self.features.add_module(f'transition_{i}', trans)\n",
    "                num_features = num_features // 2\n",
    "\n",
    "\n",
    "        self.classifier = nn.Linear(num_features, num_classes)\n",
    "\n",
    "    def forward(self, x):\n",
    "        features = self.features(x)\n",
    "        out = torch.nn.functional.adaptive_avg_pool2d(features, (1, 1))\n",
    "        out = torch.flatten(out, 1)\n",
    "        out = self.classifier(out)\n",
    "        return out"
   ]
  },
  {
   "cell_type": "markdown",
   "metadata": {},
   "source": [
    "### Training loop"
   ]
  },
  {
   "cell_type": "code",
   "execution_count": 13,
   "metadata": {},
   "outputs": [],
   "source": [
    "model = DenseNet().to(device)\n",
    "criterion = nn.CrossEntropyLoss()\n",
    "optimizer = optim.Adam(model.parameters(), lr=0.005)"
   ]
  },
  {
   "cell_type": "code",
   "execution_count": 14,
   "metadata": {},
   "outputs": [],
   "source": [
    "def train_one_epoch(model, train_loader, criterion, optimizer, device):\n",
    "\n",
    "    model.train()\n",
    "    running_loss = 0.0\n",
    "    all_predictions = []\n",
    "    all_targets = []\n",
    "\n",
    "    for inputs, labels in train_loader:\n",
    "        inputs, labels = inputs.to(device), labels.to(device)\n",
    "        optimizer.zero_grad()\n",
    "        outputs = model(inputs)\n",
    "        loss = criterion(outputs, labels)\n",
    "        loss.backward()\n",
    "        optimizer.step()\n",
    "        running_loss += loss.item() * inputs.size(0)\n",
    "        _, predicted = torch.max(outputs, 1)\n",
    "        all_predictions.extend(predicted.cpu().numpy())\n",
    "        all_targets.extend(labels.cpu().numpy())\n",
    "    \n",
    "    loss = running_loss / len(train_loader.dataset)\n",
    "    accuracy = accuracy_score(all_targets, all_predictions)\n",
    "\n",
    "    return loss, accuracy\n"
   ]
  },
  {
   "cell_type": "code",
   "execution_count": 15,
   "metadata": {},
   "outputs": [],
   "source": [
    "def validate_one_epoch(model, val_loader, criterion, device):\n",
    "\n",
    "    model.eval()\n",
    "    running_loss = 0.0\n",
    "    all_predictions = []\n",
    "    all_targets = []\n",
    "\n",
    "    with torch.no_grad():\n",
    "        \n",
    "        for inputs, labels in val_loader:\n",
    "            inputs, labels = inputs.to(device), labels.to(device)\n",
    "            outputs = model(inputs)\n",
    "            loss = criterion(outputs, labels)\n",
    "            running_loss += loss.item() * inputs.size(0)\n",
    "            _, predicted = torch.max(outputs, 1)\n",
    "            all_predictions.extend(predicted.cpu().numpy())\n",
    "            all_targets.extend(labels.cpu().numpy())\n",
    "\n",
    "    avg_loss = running_loss / len(val_loader.dataset)\n",
    "    accuracy = accuracy_score(all_targets, all_predictions)\n",
    "    precision = precision_score(all_targets, all_predictions, average='weighted')\n",
    "    recall = recall_score(all_targets, all_predictions, average='weighted')\n",
    "    f1 = f1_score(all_targets, all_predictions, average='weighted')\n",
    "    \n",
    "    return avg_loss, accuracy, precision, recall, f1"
   ]
  },
  {
   "cell_type": "code",
   "execution_count": 16,
   "metadata": {},
   "outputs": [
    {
     "name": "stdout",
     "output_type": "stream",
     "text": [
      "Epoch 1\n",
      "Train Loss: 4.165377048873902\n",
      "Train accuracy: 0.0572\n",
      "Validation Loss: 3.8207279739379882\n",
      "Validation Accuracy: 0.0988\n",
      "Precision: 0.09746566058035025\n",
      "Recall: 0.0988\n",
      "F1 Score: 0.07450741978479382 \n",
      "\n",
      "Epoch 2\n",
      "Train Loss: 3.6563009483337403\n",
      "Train accuracy: 0.136125\n",
      "Validation Loss: 3.4887326416015627\n",
      "Validation Accuracy: 0.1625\n",
      "Precision: 0.19849966516971457\n",
      "Recall: 0.1625\n",
      "F1 Score: 0.13337884111190612 \n",
      "\n",
      "Epoch 3\n",
      "Train Loss: 3.354288667678833\n",
      "Train accuracy: 0.18775\n",
      "Validation Loss: 3.2965556632995607\n",
      "Validation Accuracy: 0.2068\n",
      "Precision: 0.2521214694879146\n",
      "Recall: 0.2068\n",
      "F1 Score: 0.18591302814286395 \n",
      "\n",
      "Epoch 4\n",
      "Train Loss: 3.163005322647095\n",
      "Train accuracy: 0.2281\n",
      "Validation Loss: 3.1656876609802245\n",
      "Validation Accuracy: 0.2274\n",
      "Precision: 0.26296909964269616\n",
      "Recall: 0.2274\n",
      "F1 Score: 0.20651433275448966 \n",
      "\n",
      "Epoch 5\n",
      "Train Loss: 2.9876484577178957\n",
      "Train accuracy: 0.2601\n",
      "Validation Loss: 2.981596073913574\n",
      "Validation Accuracy: 0.2656\n",
      "Precision: 0.2978208523256654\n",
      "Recall: 0.2656\n",
      "F1 Score: 0.24906420823898098 \n",
      "\n",
      "Epoch 6\n",
      "Train Loss: 2.8510442825317384\n",
      "Train accuracy: 0.28995\n",
      "Validation Loss: 2.9107289909362795\n",
      "Validation Accuracy: 0.2729\n",
      "Precision: 0.3307798798417577\n",
      "Recall: 0.2729\n",
      "F1 Score: 0.265554963977341 \n",
      "\n",
      "Epoch 7\n",
      "Train Loss: 2.746404307556152\n",
      "Train accuracy: 0.309\n",
      "Validation Loss: 2.8636631008148195\n",
      "Validation Accuracy: 0.2873\n",
      "Precision: 0.3374255034310742\n",
      "Recall: 0.2873\n",
      "F1 Score: 0.2669044166625618 \n",
      "\n",
      "Epoch 8\n",
      "Train Loss: 2.6328665216445923\n",
      "Train accuracy: 0.329625\n",
      "Validation Loss: 2.791092220687866\n",
      "Validation Accuracy: 0.2971\n",
      "Precision: 0.34030701409747943\n",
      "Recall: 0.2971\n",
      "F1 Score: 0.29089185257033867 \n",
      "\n",
      "Epoch 9\n",
      "Train Loss: 2.5515242263793945\n",
      "Train accuracy: 0.3451\n",
      "Validation Loss: 2.7096805992126467\n",
      "Validation Accuracy: 0.3219\n",
      "Precision: 0.3713020496884799\n",
      "Recall: 0.3219\n",
      "F1 Score: 0.31523289212750016 \n",
      "\n",
      "Epoch 10\n",
      "Train Loss: 2.4754337594985962\n",
      "Train accuracy: 0.36295\n",
      "Validation Loss: 2.6197821712493896\n",
      "Validation Accuracy: 0.3368\n",
      "Precision: 0.35234285741792476\n",
      "Recall: 0.3368\n",
      "F1 Score: 0.3258652857752153 \n",
      "\n"
     ]
    }
   ],
   "source": [
    "# TRAINING\n",
    "\n",
    "all_train_acc = []\n",
    "all_train_loss = []\n",
    "all_val_acc = []\n",
    "all_val_loss = []\n",
    "all_prec = []\n",
    "all_rec = []\n",
    "all_f1 = []\n",
    "\n",
    "for epoch in range(epochs):\n",
    "\n",
    "    train_loss, train_acc = train_one_epoch(model, train_loader, criterion, optimizer, device)\n",
    "    val_loss, val_accuracy, precision, recall, f1 = validate_one_epoch(model, val_loader, criterion, device)\n",
    "\n",
    "    all_train_loss.append(train_loss)\n",
    "    all_train_acc.append(train_acc)\n",
    "    all_val_loss.append(val_loss)\n",
    "    all_val_acc.append(val_accuracy)\n",
    "    all_prec.append(precision)\n",
    "    all_rec.append(recall)\n",
    "    all_f1.append(f1)\n",
    "    \n",
    "    print(f\"Epoch {epoch+1}\") \n",
    "    print(\"Train Loss:\", train_loss)\n",
    "    print(\"Train accuracy:\", train_acc)\n",
    "    print(\"Validation Loss:\", val_loss) \n",
    "    print(\"Validation Accuracy:\", val_accuracy) \n",
    "    print(\"Precision:\", precision)\n",
    "    print(\"Recall:\", recall) \n",
    "    print(\"F1 Score:\", f1,\"\\n\")\n"
   ]
  },
  {
   "cell_type": "code",
   "execution_count": 20,
   "metadata": {},
   "outputs": [],
   "source": [
    "import pickle\n",
    "pickle.dump(model, open('DenseNet.pkl', 'wb'))"
   ]
  },
  {
   "cell_type": "markdown",
   "metadata": {},
   "source": [
    "### Loss curves"
   ]
  },
  {
   "cell_type": "code",
   "execution_count": 17,
   "metadata": {},
   "outputs": [
    {
     "data": {
      "image/png": "[encoded data removed]",
      "text/plain": [
       "<Figure size 640x480 with 1 Axes>"
      ]
     },
     "metadata": {},
     "output_type": "display_data"
    }
   ],
   "source": [
    "import matplotlib.pyplot as plt\n",
    "plt.plot(all_train_loss, label='Train Loss')\n",
    "plt.plot(all_val_loss, label='Test Loss')\n",
    "plt.title(\"Loss curve\")\n",
    "plt.xlabel(\"Epochs\")\n",
    "plt.ylabel(\"Loss\")\n",
    "plt.legend()\n",
    "plt.show()"
   ]
  },
  {
   "cell_type": "markdown",
   "metadata": {},
   "source": [
    "### Accuracy curves"
   ]
  },
  {
   "cell_type": "code",
   "execution_count": 18,
   "metadata": {},
   "outputs": [
    {
     "data": {
      "image/png": "[encoded data removed]",
      "text/plain": [
       "<Figure size 640x480 with 1 Axes>"
      ]
     },
     "metadata": {},
     "output_type": "display_data"
    }
   ],
   "source": [
    "plt.plot(all_train_acc, label='Training Acc')\n",
    "plt.plot(all_val_acc, label='Validation Acc')\n",
    "plt.title(\"Accuracy curves\")\n",
    "plt.xlabel(\"Epochs\")\n",
    "plt.ylabel(\"Accuracy\")\n",
    "plt.legend()\n",
    "plt.show()"
   ]
  },
  {
   "cell_type": "markdown",
   "metadata": {},
   "source": [
    "### Testing"
   ]
  },
  {
   "cell_type": "code",
   "execution_count": 22,
   "metadata": {},
   "outputs": [
    {
     "name": "stdout",
     "output_type": "stream",
     "text": [
      "Testing loss = 2.6197821712493896 \n",
      "\n",
      "              precision    recall  f1-score   support\n",
      "\n",
      "           0       0.44      0.57      0.50       107\n",
      "           1       0.37      0.49      0.42       107\n",
      "           2       0.11      0.34      0.17        88\n",
      "           3       0.19      0.10      0.13       103\n",
      "           4       0.11      0.10      0.10        93\n",
      "           5       0.25      0.51      0.33       105\n",
      "           6       0.27      0.29      0.28        93\n",
      "           7       0.16      0.31      0.21        96\n",
      "           8       0.45      0.28      0.34        87\n",
      "           9       0.60      0.39      0.47        88\n",
      "          10       0.31      0.19      0.24       100\n",
      "          11       0.26      0.09      0.13       100\n",
      "          12       0.60      0.24      0.35        99\n",
      "          13       0.50      0.16      0.25        86\n",
      "          14       0.31      0.08      0.13       100\n",
      "          15       0.33      0.24      0.28        87\n",
      "          16       0.48      0.31      0.38       116\n",
      "          17       0.53      0.54      0.54        91\n",
      "          18       0.22      0.23      0.23       113\n",
      "          19       0.25      0.32      0.28       104\n",
      "          20       0.52      0.73      0.61       107\n",
      "          21       0.37      0.38      0.38       113\n",
      "          22       0.26      0.26      0.26       107\n",
      "          23       0.45      0.58      0.50        99\n",
      "          24       0.47      0.56      0.51       104\n",
      "          25       0.23      0.09      0.13       106\n",
      "          26       0.33      0.09      0.14       104\n",
      "          27       0.19      0.28      0.22       105\n",
      "          28       0.49      0.48      0.48        92\n",
      "          29       0.53      0.26      0.35        99\n",
      "          30       0.33      0.48      0.39       109\n",
      "          31       0.30      0.29      0.30        96\n",
      "          32       0.22      0.17      0.19        94\n",
      "          33       0.51      0.47      0.49       104\n",
      "          34       0.36      0.12      0.18        82\n",
      "          35       0.20      0.21      0.20        98\n",
      "          36       0.28      0.49      0.36       107\n",
      "          37       0.35      0.27      0.31       100\n",
      "          38       0.22      0.17      0.19       109\n",
      "          39       0.33      0.40      0.36       103\n",
      "          40       0.29      0.16      0.20        96\n",
      "          41       0.31      0.66      0.42       104\n",
      "          42       0.28      0.48      0.35       105\n",
      "          43       0.21      0.53      0.30       110\n",
      "          44       0.07      0.03      0.05        87\n",
      "          45       0.16      0.15      0.15       106\n",
      "          46       0.18      0.11      0.14        99\n",
      "          47       0.52      0.47      0.49       103\n",
      "          48       0.60      0.58      0.59        98\n",
      "          49       0.29      0.66      0.40       104\n",
      "          50       0.14      0.11      0.13       105\n",
      "          51       0.20      0.36      0.26       102\n",
      "          52       0.62      0.65      0.63       110\n",
      "          53       0.42      0.63      0.50        95\n",
      "          54       0.59      0.37      0.46        89\n",
      "          55       0.06      0.04      0.05        94\n",
      "          56       0.46      0.53      0.49       105\n",
      "          57       0.34      0.35      0.34       107\n",
      "          58       0.41      0.63      0.50        91\n",
      "          59       0.40      0.40      0.40       106\n",
      "          60       0.67      0.65      0.66        92\n",
      "          61       0.43      0.45      0.44       114\n",
      "          62       0.42      0.53      0.47       104\n",
      "          63       0.30      0.35      0.32       103\n",
      "          64       0.18      0.10      0.12       104\n",
      "          65       0.21      0.15      0.17        99\n",
      "          66       0.38      0.23      0.29       103\n",
      "          67       0.27      0.52      0.36       101\n",
      "          68       0.80      0.53      0.64        93\n",
      "          69       0.55      0.37      0.44        94\n",
      "          70       0.44      0.25      0.32       109\n",
      "          71       0.54      0.43      0.48        95\n",
      "          72       0.14      0.05      0.08        96\n",
      "          73       0.39      0.28      0.32       105\n",
      "          74       0.39      0.16      0.23       114\n",
      "          75       0.33      0.72      0.46       101\n",
      "          76       0.73      0.38      0.50       104\n",
      "          77       0.11      0.17      0.14       103\n",
      "          78       0.19      0.06      0.09        89\n",
      "          79       0.21      0.10      0.14        97\n",
      "          80       0.19      0.11      0.14        88\n",
      "          81       0.28      0.36      0.32        86\n",
      "          82       0.56      0.67      0.61        97\n",
      "          83       0.31      0.17      0.22       110\n",
      "          84       0.32      0.09      0.14        89\n",
      "          85       0.41      0.37      0.39       109\n",
      "          86       0.43      0.33      0.37       101\n",
      "          87       0.47      0.38      0.42        99\n",
      "          88       0.24      0.30      0.27        86\n",
      "          89       0.25      0.39      0.30       101\n",
      "          90       0.36      0.22      0.28        98\n",
      "          91       0.31      0.47      0.37        88\n",
      "          92       0.31      0.28      0.30       116\n",
      "          93       0.24      0.12      0.16        98\n",
      "          94       0.69      0.75      0.72       102\n",
      "          95       0.52      0.27      0.35        90\n",
      "          96       0.42      0.42      0.42       105\n",
      "          97       0.20      0.29      0.24        95\n",
      "          98       0.37      0.18      0.24       117\n",
      "          99       0.44      0.35      0.39        88\n",
      "\n",
      "    accuracy                           0.34     10000\n",
      "   macro avg       0.35      0.33      0.32     10000\n",
      "weighted avg       0.35      0.34      0.33     10000\n",
      "\n"
     ]
    }
   ],
   "source": [
    "from sklearn.metrics import classification_report\n",
    "\n",
    "model.eval()\n",
    "running_loss = 0.0\n",
    "all_predictions = []\n",
    "all_targets = []\n",
    "\n",
    "with torch.no_grad():\n",
    "    \n",
    "    for inputs, labels in val_loader:\n",
    "        inputs, labels = inputs.to(device), labels.to(device)\n",
    "        outputs = model(inputs)\n",
    "        loss = criterion(outputs, labels)\n",
    "        running_loss += loss.item() * inputs.size(0)\n",
    "        _, predicted = torch.max(outputs, 1)\n",
    "        all_predictions.extend(predicted.cpu().numpy())\n",
    "        all_targets.extend(labels.cpu().numpy())\n",
    "\n",
    "print(\"Testing loss =\", running_loss / len(val_loader.dataset),\"\\n\")\n",
    "\n",
    "print(classification_report(all_targets, all_predictions))"
   ]
  },
  {
   "cell_type": "markdown",
   "metadata": {},
   "source": [
    "## Without Dense Connections"
   ]
  },
  {
   "cell_type": "code",
   "execution_count": 13,
   "metadata": {},
   "outputs": [
    {
     "data": {
      "text/plain": [
       "' In this part of the assignment, we use a DenseNet architecture with 3 Convolutional blocks. Here we remove the Dense blocks and use only the transition blocks.\\nWe have used AvgPooling in the transition block. In the output layer, we use a Dense layer with 100 output units, as we have 100 classes in the CIFAR100 dataset. '"
      ]
     },
     "execution_count": 13,
     "metadata": {},
     "output_type": "execute_result"
    }
   ],
   "source": [
    "''' In this part of the assignment, we use a DenseNet architecture with 3 Convolutional blocks. Here we remove the Dense blocks and use only the transition blocks.\n",
    "We have used AvgPooling in the transition block. In the output layer, we use a Dense layer with 100 output units, as we have 100 classes in the CIFAR100 dataset. '''"
   ]
  },
  {
   "cell_type": "markdown",
   "metadata": {},
   "source": [
    "### Model Architecture"
   ]
  },
  {
   "cell_type": "code",
   "execution_count": 20,
   "metadata": {},
   "outputs": [],
   "source": [
    "class DenseNetWithoutDense(nn.Module):\n",
    "    def __init__(self, growth_rate=12, block_config=(16, 16, 16), num_classes=100):\n",
    "        super(DenseNetWithoutDense, self).__init__()\n",
    "        self.growth_rate = growth_rate\n",
    "\n",
    "        self.features = nn.Sequential(\n",
    "            nn.Conv2d(3, 2 * growth_rate, kernel_size=3, padding=1),\n",
    "            nn.BatchNorm2d(2 * growth_rate),\n",
    "            nn.ReLU(inplace=True)\n",
    "        )\n",
    "\n",
    "        num_features = 2 * growth_rate\n",
    "        for i, num_layers in enumerate(block_config):\n",
    "            block = self._make_block(num_features, growth_rate, num_layers)\n",
    "            self.features.add_module(f'block_{i}', block)\n",
    "            num_features += num_layers * growth_rate\n",
    "            if i != len(block_config) - 1:\n",
    "                trans = TransitionBlock2(num_features, num_features // 2)\n",
    "                self.features.add_module(f'transition_{i}', trans)\n",
    "                num_features = num_features // 2\n",
    "\n",
    "        self.classifier = nn.Linear(num_features, num_classes)\n",
    "\n",
    "    def forward(self, x):\n",
    "        features = self.features(x)\n",
    "        out = torch.nn.functional.adaptive_avg_pool2d(features, (1, 1))\n",
    "        out = torch.flatten(out, 1)\n",
    "        out = self.classifier(out)\n",
    "        return out\n",
    "\n",
    "    def _make_block(self, in_channels, growth_rate, num_layers):\n",
    "        layers = []\n",
    "        for _ in range(num_layers):\n",
    "            layers.append(nn.Sequential(\n",
    "                nn.BatchNorm2d(in_channels),\n",
    "                nn.ReLU(inplace=True),\n",
    "                nn.Conv2d(in_channels, growth_rate, kernel_size=3, padding=1)\n",
    "            ))\n",
    "            in_channels += growth_rate\n",
    "        return nn.Sequential(*layers)"
   ]
  },
  {
   "cell_type": "code",
   "execution_count": 21,
   "metadata": {},
   "outputs": [],
   "source": [
    "class TransitionBlock2(nn.Module):\n",
    "    def __init__(self, in_channels, out_channels):\n",
    "        super(TransitionBlock2, self).__init__()\n",
    "        self.conv = nn.Conv2d(in_channels, out_channels, kernel_size=1)\n",
    "        self.bn = nn.BatchNorm2d(out_channels)  \n",
    "        self.pool = nn.AvgPool2d(kernel_size=2, stride=2)\n",
    "\n",
    "    def forward(self, x):\n",
    "        x = self.conv(x)\n",
    "        x = self.bn(x)  \n",
    "        return self.pool(F.relu(x))"
   ]
  },
  {
   "cell_type": "markdown",
   "metadata": {},
   "source": [
    "### Training loop"
   ]
  },
  {
   "cell_type": "code",
   "execution_count": 22,
   "metadata": {},
   "outputs": [],
   "source": [
    "model = DenseNetWithoutDense().to(device)\n",
    "criterion = nn.CrossEntropyLoss()\n",
    "optimizer = optim.Adam(model.parameters(), lr=0.005)"
   ]
  },
  {
   "cell_type": "code",
   "execution_count": 23,
   "metadata": {},
   "outputs": [],
   "source": [
    "def train_one_epoch(model, train_loader, criterion, optimizer, device):\n",
    "\n",
    "    model.train()\n",
    "    running_loss = 0.0\n",
    "    all_predictions = []\n",
    "    all_targets = []\n",
    "\n",
    "    for inputs, labels in train_loader:\n",
    "        inputs, labels = inputs.to(device), labels.to(device)\n",
    "        optimizer.zero_grad()\n",
    "        outputs = model(inputs)\n",
    "        loss = criterion(outputs, labels)\n",
    "        loss.backward()\n",
    "        optimizer.step()\n",
    "        running_loss += loss.item() * inputs.size(0)\n",
    "        _, predicted = torch.max(outputs, 1)\n",
    "        all_predictions.extend(predicted.cpu().numpy())\n",
    "        all_targets.extend(labels.cpu().numpy())\n",
    "    \n",
    "    loss = running_loss / len(train_loader.dataset)\n",
    "    accuracy = accuracy_score(all_targets, all_predictions)\n",
    "\n",
    "    return loss, accuracy\n"
   ]
  },
  {
   "cell_type": "code",
   "execution_count": 24,
   "metadata": {},
   "outputs": [],
   "source": [
    "def validate_one_epoch(model, val_loader, criterion, device):\n",
    "\n",
    "    model.eval()\n",
    "    running_loss = 0.0\n",
    "    all_predictions = []\n",
    "    all_targets = []\n",
    "\n",
    "    with torch.no_grad():\n",
    "        \n",
    "        for inputs, labels in val_loader:\n",
    "            inputs, labels = inputs.to(device), labels.to(device)\n",
    "            outputs = model(inputs)\n",
    "            loss = criterion(outputs, labels)\n",
    "            running_loss += loss.item()*inputs.size(0)\n",
    "            _, predicted = torch.max(outputs, 1)\n",
    "            all_predictions.extend(predicted.cpu().numpy())\n",
    "            all_targets.extend(labels.cpu().numpy())\n",
    "\n",
    "    avg_loss = running_loss / len(val_loader.dataset)\n",
    "    accuracy = accuracy_score(all_targets, all_predictions)\n",
    "    precision = precision_score(all_targets, all_predictions, average='weighted')\n",
    "    recall = recall_score(all_targets, all_predictions, average='weighted')\n",
    "    f1 = f1_score(all_targets, all_predictions, average='weighted')\n",
    "    \n",
    "    return avg_loss, accuracy, precision, recall, f1"
   ]
  },
  {
   "cell_type": "code",
   "execution_count": null,
   "metadata": {},
   "outputs": [],
   "source": [
    "# TRAINING\n",
    "\n",
    "all_train_acc = []\n",
    "all_train_loss = []\n",
    "all_val_acc = []\n",
    "all_val_loss = []\n",
    "all_prec = []\n",
    "all_rec = []\n",
    "all_f1 = []\n",
    "\n",
    "for epoch in range(10):\n",
    "\n",
    "    train_loss, train_acc = train_one_epoch(model, train_loader, criterion, optimizer, device)\n",
    "    val_loss, val_accuracy, precision, recall, f1 = validate_one_epoch(model, val_loader, criterion, device)\n",
    "\n",
    "    all_train_loss.append(train_loss)\n",
    "    all_train_acc.append(train_acc)\n",
    "    all_val_loss.append(val_loss)\n",
    "    all_val_acc.append(val_accuracy)\n",
    "    all_prec.append(precision)\n",
    "    all_rec.append(recall)\n",
    "    all_f1.append(f1)\n",
    "    \n",
    "    print(f\"Epoch {epoch+1}\") \n",
    "    print(\"Train Loss:\", train_loss)\n",
    "    print(\"Train accuracy:\", train_acc)\n",
    "    print(\"Validation Loss:\", val_loss) \n",
    "    print(\"Validation Accuracy:\", val_accuracy) \n",
    "    print(\"Precision:\", precision)\n",
    "    print(\"Recall:\", recall) \n",
    "    print(\"F1 Score:\", f1,\"\\n\")\n"
   ]
  },
  {
   "cell_type": "code",
   "execution_count": null,
   "metadata": {},
   "outputs": [],
   "source": [
    "import pickle\n",
    "pickle.dump(model, open('DenseNetWithoutDense.pkl', 'wb'))"
   ]
  },
  {
   "cell_type": "markdown",
   "metadata": {},
   "source": [
    "### Loss curves"
   ]
  },
  {
   "cell_type": "code",
   "execution_count": null,
   "metadata": {},
   "outputs": [
    {
     "data": {
      "image/png": "[encoded data removed]",
      "text/plain": [
       "<Figure size 640x480 with 1 Axes>"
      ]
     },
     "metadata": {},
     "output_type": "display_data"
    }
   ],
   "source": [
    "import matplotlib.pyplot as plt\n",
    "plt.plot(all_train_loss, label='Train Loss')\n",
    "plt.plot(all_val_loss, label='Test Loss')\n",
    "plt.title(\"Loss curve\")\n",
    "plt.xlabel(\"Epochs\")\n",
    "plt.ylabel(\"Loss\")\n",
    "plt.legend()\n",
    "plt.show()"
   ]
  },
  {
   "cell_type": "markdown",
   "metadata": {},
   "source": [
    "### Accuracy curves"
   ]
  },
  {
   "cell_type": "code",
   "execution_count": null,
   "metadata": {},
   "outputs": [
    {
     "data": {
      "image/png": "[encoded data removed]",
      "text/plain": [
       "<Figure size 640x480 with 1 Axes>"
      ]
     },
     "metadata": {},
     "output_type": "display_data"
    }
   ],
   "source": [
    "plt.plot(all_train_acc, label='Training Acc')\n",
    "plt.plot(all_val_acc, label='Validation Acc')\n",
    "plt.title(\"Accuracy curves\")\n",
    "plt.xlabel(\"Epochs\")\n",
    "plt.ylabel(\"Accuracy\")\n",
    "plt.legend()\n",
    "plt.show()"
   ]
  },
  {
   "cell_type": "markdown",
   "metadata": {},
   "source": [
    "### Testing"
   ]
  },
  {
   "cell_type": "code",
   "execution_count": null,
   "metadata": {},
   "outputs": [],
   "source": [
    "from sklearn.metrics import classification_report\n",
    "\n",
    "model.eval()\n",
    "running_loss = 0.0\n",
    "all_predictions = []\n",
    "all_targets = []\n",
    "\n",
    "with torch.no_grad():\n",
    "    \n",
    "    for inputs, labels in val_loader:\n",
    "        inputs, labels = inputs.to(device), labels.to(device)\n",
    "        outputs = model(inputs)\n",
    "        loss = criterion(outputs, labels)\n",
    "        running_loss += loss.item() * inputs.size(0)\n",
    "        _, predicted = torch.max(outputs, 1)\n",
    "        all_predictions.extend(predicted.cpu().numpy())\n",
    "        all_targets.extend(labels.cpu().numpy())\n",
    "\n",
    "print(\"Testing loss =\", running_loss / len(val_loader.dataset),\"\\n\")\n",
    "\n",
    "print(classification_report(all_targets, all_predictions))"
   ]
  }
 ],
 "metadata": {
  "kernelspec": {
   "display_name": "dlenv",
   "language": "python",
   "name": "python3"
  },
  "language_info": {
   "codemirror_mode": {
    "name": "ipython",
    "version": 3
   },
   "file_extension": ".py",
   "mimetype": "text/x-python",
   "name": "python",
   "nbconvert_exporter": "python",
   "pygments_lexer": "ipython3",
   "version": "3.10.0"
  }
 },
 "nbformat": 4,
 "nbformat_minor": 2
}
